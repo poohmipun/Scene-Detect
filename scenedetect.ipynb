{
 "cells": [
  {
   "cell_type": "code",
   "execution_count": 3,
   "metadata": {},
   "outputs": [
    {
     "name": "stdout",
     "output_type": "stream",
     "text": [
      "Splitting scene 1: 4 Girls Beaten Shot Stabbed by Tough Man_1080pFHR-Scene-001.mp4\n"
     ]
    },
    {
     "name": "stderr",
     "output_type": "stream",
     "text": [
      "100%|██████████| 688/688 [00:05<00:00, 127.07frame/s]\n"
     ]
    },
    {
     "name": "stdout",
     "output_type": "stream",
     "text": [
      "Splitting scene 2: 4 Girls Beaten Shot Stabbed by Tough Man_1080pFHR-Scene-002.mp4\n"
     ]
    },
    {
     "name": "stderr",
     "output_type": "stream",
     "text": [
      "100%|██████████| 176/176 [00:01<00:00, 108.48frame/s]\n"
     ]
    },
    {
     "name": "stdout",
     "output_type": "stream",
     "text": [
      "Splitting scene 3: 4 Girls Beaten Shot Stabbed by Tough Man_1080pFHR-Scene-003.mp4\n"
     ]
    },
    {
     "name": "stderr",
     "output_type": "stream",
     "text": [
      "100%|██████████| 289/289 [00:03<00:00, 95.76frame/s]\n"
     ]
    },
    {
     "name": "stdout",
     "output_type": "stream",
     "text": [
      "Splitting scene 4: 4 Girls Beaten Shot Stabbed by Tough Man_1080pFHR-Scene-004.mp4\n"
     ]
    },
    {
     "name": "stderr",
     "output_type": "stream",
     "text": [
      "100%|██████████| 20/20 [00:00<00:00, 30.18frame/s]\n"
     ]
    },
    {
     "name": "stdout",
     "output_type": "stream",
     "text": [
      "Splitting scene 5: 4 Girls Beaten Shot Stabbed by Tough Man_1080pFHR-Scene-005.mp4\n"
     ]
    },
    {
     "name": "stderr",
     "output_type": "stream",
     "text": [
      "100%|██████████| 63/63 [00:01<00:00, 61.00frame/s]\n"
     ]
    },
    {
     "name": "stdout",
     "output_type": "stream",
     "text": [
      "Splitting scene 6: 4 Girls Beaten Shot Stabbed by Tough Man_1080pFHR-Scene-006.mp4\n"
     ]
    },
    {
     "name": "stderr",
     "output_type": "stream",
     "text": [
      "100%|██████████| 36/36 [00:00<00:00, 67.58frame/s]\n"
     ]
    },
    {
     "name": "stdout",
     "output_type": "stream",
     "text": [
      "Splitting scene 7: 4 Girls Beaten Shot Stabbed by Tough Man_1080pFHR-Scene-007.mp4\n"
     ]
    },
    {
     "name": "stderr",
     "output_type": "stream",
     "text": [
      "100%|██████████| 20/20 [00:00<00:00, 52.32frame/s]\n"
     ]
    },
    {
     "name": "stdout",
     "output_type": "stream",
     "text": [
      "Splitting scene 8: 4 Girls Beaten Shot Stabbed by Tough Man_1080pFHR-Scene-008.mp4\n"
     ]
    },
    {
     "name": "stderr",
     "output_type": "stream",
     "text": [
      "100%|██████████| 16/16 [00:00<00:00, 37.97frame/s]\n"
     ]
    },
    {
     "name": "stdout",
     "output_type": "stream",
     "text": [
      "Splitting scene 9: 4 Girls Beaten Shot Stabbed by Tough Man_1080pFHR-Scene-009.mp4\n"
     ]
    },
    {
     "name": "stderr",
     "output_type": "stream",
     "text": [
      "100%|██████████| 153/153 [00:01<00:00, 108.19frame/s]\n"
     ]
    },
    {
     "name": "stdout",
     "output_type": "stream",
     "text": [
      "Splitting scene 10: 4 Girls Beaten Shot Stabbed by Tough Man_1080pFHR-Scene-010.mp4\n"
     ]
    },
    {
     "name": "stderr",
     "output_type": "stream",
     "text": [
      "100%|██████████| 150/150 [00:01<00:00, 88.84frame/s]\n"
     ]
    },
    {
     "name": "stdout",
     "output_type": "stream",
     "text": [
      "Splitting scene 11: 4 Girls Beaten Shot Stabbed by Tough Man_1080pFHR-Scene-011.mp4\n"
     ]
    },
    {
     "name": "stderr",
     "output_type": "stream",
     "text": [
      "100%|██████████| 17/17 [00:00<00:00, 32.45frame/s]\n"
     ]
    },
    {
     "name": "stdout",
     "output_type": "stream",
     "text": [
      "Splitting scene 12: 4 Girls Beaten Shot Stabbed by Tough Man_1080pFHR-Scene-012.mp4\n"
     ]
    },
    {
     "name": "stderr",
     "output_type": "stream",
     "text": [
      "100%|██████████| 247/247 [00:02<00:00, 110.37frame/s]\n"
     ]
    },
    {
     "name": "stdout",
     "output_type": "stream",
     "text": [
      "Splitting scene 13: 4 Girls Beaten Shot Stabbed by Tough Man_1080pFHR-Scene-013.mp4\n"
     ]
    },
    {
     "name": "stderr",
     "output_type": "stream",
     "text": [
      "100%|██████████| 253/253 [00:02<00:00, 118.64frame/s]\n"
     ]
    },
    {
     "name": "stdout",
     "output_type": "stream",
     "text": [
      "Splitting scene 14: 4 Girls Beaten Shot Stabbed by Tough Man_1080pFHR-Scene-014.mp4\n"
     ]
    },
    {
     "name": "stderr",
     "output_type": "stream",
     "text": [
      "100%|██████████| 106/106 [00:01<00:00, 95.53frame/s]\n"
     ]
    },
    {
     "name": "stdout",
     "output_type": "stream",
     "text": [
      "Splitting scene 15: 4 Girls Beaten Shot Stabbed by Tough Man_1080pFHR-Scene-015.mp4\n"
     ]
    },
    {
     "name": "stderr",
     "output_type": "stream",
     "text": [
      "100%|██████████| 32/32 [00:00<00:00, 50.24frame/s]\n"
     ]
    },
    {
     "name": "stdout",
     "output_type": "stream",
     "text": [
      "Splitting scene 16: 4 Girls Beaten Shot Stabbed by Tough Man_1080pFHR-Scene-016.mp4\n"
     ]
    },
    {
     "name": "stderr",
     "output_type": "stream",
     "text": [
      "100%|██████████| 23/23 [00:00<00:00, 40.92frame/s]\n"
     ]
    },
    {
     "name": "stdout",
     "output_type": "stream",
     "text": [
      "Splitting scene 17: 4 Girls Beaten Shot Stabbed by Tough Man_1080pFHR-Scene-017.mp4\n"
     ]
    },
    {
     "name": "stderr",
     "output_type": "stream",
     "text": [
      "100%|██████████| 47/47 [00:00<00:00, 59.37frame/s]\n"
     ]
    },
    {
     "name": "stdout",
     "output_type": "stream",
     "text": [
      "Splitting scene 18: 4 Girls Beaten Shot Stabbed by Tough Man_1080pFHR-Scene-018.mp4\n"
     ]
    },
    {
     "name": "stderr",
     "output_type": "stream",
     "text": [
      "100%|██████████| 113/113 [00:01<00:00, 84.26frame/s]\n"
     ]
    },
    {
     "name": "stdout",
     "output_type": "stream",
     "text": [
      "Splitting scene 19: 4 Girls Beaten Shot Stabbed by Tough Man_1080pFHR-Scene-019.mp4\n"
     ]
    },
    {
     "name": "stderr",
     "output_type": "stream",
     "text": [
      "100%|██████████| 55/55 [00:00<00:00, 73.13frame/s]\n"
     ]
    },
    {
     "name": "stdout",
     "output_type": "stream",
     "text": [
      "Splitting scene 20: 4 Girls Beaten Shot Stabbed by Tough Man_1080pFHR-Scene-020.mp4\n"
     ]
    },
    {
     "name": "stderr",
     "output_type": "stream",
     "text": [
      "100%|██████████| 30/30 [00:00<00:00, 54.94frame/s]\n"
     ]
    },
    {
     "name": "stdout",
     "output_type": "stream",
     "text": [
      "Splitting scene 21: 4 Girls Beaten Shot Stabbed by Tough Man_1080pFHR-Scene-021.mp4\n"
     ]
    },
    {
     "name": "stderr",
     "output_type": "stream",
     "text": [
      "100%|██████████| 17/17 [00:00<00:00, 36.53frame/s]\n"
     ]
    },
    {
     "name": "stdout",
     "output_type": "stream",
     "text": [
      "Splitting scene 22: 4 Girls Beaten Shot Stabbed by Tough Man_1080pFHR-Scene-022.mp4\n"
     ]
    },
    {
     "name": "stderr",
     "output_type": "stream",
     "text": [
      "100%|██████████| 70/70 [00:00<00:00, 75.17frame/s]\n"
     ]
    },
    {
     "name": "stdout",
     "output_type": "stream",
     "text": [
      "Splitting scene 23: 4 Girls Beaten Shot Stabbed by Tough Man_1080pFHR-Scene-023.mp4\n"
     ]
    },
    {
     "name": "stderr",
     "output_type": "stream",
     "text": [
      "100%|██████████| 27/27 [00:00<00:00, 39.76frame/s]\n"
     ]
    },
    {
     "name": "stdout",
     "output_type": "stream",
     "text": [
      "Splitting scene 24: 4 Girls Beaten Shot Stabbed by Tough Man_1080pFHR-Scene-024.mp4\n"
     ]
    },
    {
     "name": "stderr",
     "output_type": "stream",
     "text": [
      "100%|██████████| 32/32 [00:00<00:00, 46.93frame/s]\n"
     ]
    },
    {
     "name": "stdout",
     "output_type": "stream",
     "text": [
      "Splitting scene 25: 4 Girls Beaten Shot Stabbed by Tough Man_1080pFHR-Scene-025.mp4\n"
     ]
    },
    {
     "name": "stderr",
     "output_type": "stream",
     "text": [
      "100%|██████████| 200/200 [00:02<00:00, 90.26frame/s]\n"
     ]
    },
    {
     "name": "stdout",
     "output_type": "stream",
     "text": [
      "Splitting scene 26: 4 Girls Beaten Shot Stabbed by Tough Man_1080pFHR-Scene-026.mp4\n"
     ]
    },
    {
     "name": "stderr",
     "output_type": "stream",
     "text": [
      "100%|██████████| 29/29 [00:00<00:00, 49.54frame/s]\n"
     ]
    },
    {
     "name": "stdout",
     "output_type": "stream",
     "text": [
      "Splitting scene 27: 4 Girls Beaten Shot Stabbed by Tough Man_1080pFHR-Scene-027.mp4\n"
     ]
    },
    {
     "name": "stderr",
     "output_type": "stream",
     "text": [
      "100%|██████████| 70/70 [00:00<00:00, 75.81frame/s]\n"
     ]
    },
    {
     "name": "stdout",
     "output_type": "stream",
     "text": [
      "Splitting scene 28: 4 Girls Beaten Shot Stabbed by Tough Man_1080pFHR-Scene-028.mp4\n"
     ]
    },
    {
     "name": "stderr",
     "output_type": "stream",
     "text": [
      "100%|██████████| 74/74 [00:01<00:00, 62.78frame/s]\n"
     ]
    },
    {
     "name": "stdout",
     "output_type": "stream",
     "text": [
      "Splitting scene 29: 4 Girls Beaten Shot Stabbed by Tough Man_1080pFHR-Scene-029.mp4\n"
     ]
    },
    {
     "name": "stderr",
     "output_type": "stream",
     "text": [
      "100%|██████████| 93/93 [00:01<00:00, 92.39frame/s]\n"
     ]
    },
    {
     "name": "stdout",
     "output_type": "stream",
     "text": [
      "Splitting scene 30: 4 Girls Beaten Shot Stabbed by Tough Man_1080pFHR-Scene-030.mp4\n"
     ]
    },
    {
     "name": "stderr",
     "output_type": "stream",
     "text": [
      "100%|██████████| 27/27 [00:00<00:00, 49.19frame/s]\n"
     ]
    },
    {
     "name": "stdout",
     "output_type": "stream",
     "text": [
      "Splitting scene 31: 4 Girls Beaten Shot Stabbed by Tough Man_1080pFHR-Scene-031.mp4\n"
     ]
    },
    {
     "name": "stderr",
     "output_type": "stream",
     "text": [
      "100%|██████████| 51/51 [00:00<00:00, 64.51frame/s]\n"
     ]
    },
    {
     "name": "stdout",
     "output_type": "stream",
     "text": [
      "Splitting scene 32: 4 Girls Beaten Shot Stabbed by Tough Man_1080pFHR-Scene-032.mp4\n"
     ]
    },
    {
     "name": "stderr",
     "output_type": "stream",
     "text": [
      "100%|██████████| 25/25 [00:00<00:00, 35.90frame/s]\n"
     ]
    },
    {
     "name": "stdout",
     "output_type": "stream",
     "text": [
      "Splitting scene 33: 4 Girls Beaten Shot Stabbed by Tough Man_1080pFHR-Scene-033.mp4\n"
     ]
    },
    {
     "name": "stderr",
     "output_type": "stream",
     "text": [
      "100%|██████████| 38/38 [00:00<00:00, 46.94frame/s]\n"
     ]
    },
    {
     "name": "stdout",
     "output_type": "stream",
     "text": [
      "Splitting scene 34: 4 Girls Beaten Shot Stabbed by Tough Man_1080pFHR-Scene-034.mp4\n"
     ]
    },
    {
     "name": "stderr",
     "output_type": "stream",
     "text": [
      "100%|██████████| 214/214 [00:02<00:00, 81.30frame/s]\n"
     ]
    },
    {
     "name": "stdout",
     "output_type": "stream",
     "text": [
      "Splitting scene 35: 4 Girls Beaten Shot Stabbed by Tough Man_1080pFHR-Scene-035.mp4\n"
     ]
    },
    {
     "name": "stderr",
     "output_type": "stream",
     "text": [
      "100%|██████████| 30/30 [00:00<00:00, 47.17frame/s]\n"
     ]
    },
    {
     "name": "stdout",
     "output_type": "stream",
     "text": [
      "Splitting scene 36: 4 Girls Beaten Shot Stabbed by Tough Man_1080pFHR-Scene-036.mp4\n"
     ]
    },
    {
     "name": "stderr",
     "output_type": "stream",
     "text": [
      "100%|██████████| 48/48 [00:00<00:00, 58.93frame/s]\n"
     ]
    },
    {
     "name": "stdout",
     "output_type": "stream",
     "text": [
      "Splitting scene 37: 4 Girls Beaten Shot Stabbed by Tough Man_1080pFHR-Scene-037.mp4\n"
     ]
    },
    {
     "name": "stderr",
     "output_type": "stream",
     "text": [
      "100%|██████████| 15/15 [00:00<00:00, 24.58frame/s]\n"
     ]
    },
    {
     "name": "stdout",
     "output_type": "stream",
     "text": [
      "Splitting scene 38: 4 Girls Beaten Shot Stabbed by Tough Man_1080pFHR-Scene-038.mp4\n"
     ]
    },
    {
     "name": "stderr",
     "output_type": "stream",
     "text": [
      "100%|██████████| 86/86 [00:01<00:00, 68.14frame/s]\n"
     ]
    },
    {
     "name": "stdout",
     "output_type": "stream",
     "text": [
      "Splitting scene 39: 4 Girls Beaten Shot Stabbed by Tough Man_1080pFHR-Scene-039.mp4\n"
     ]
    },
    {
     "name": "stderr",
     "output_type": "stream",
     "text": [
      "100%|██████████| 237/237 [00:02<00:00, 104.21frame/s]\n"
     ]
    },
    {
     "name": "stdout",
     "output_type": "stream",
     "text": [
      "Splitting scene 40: 4 Girls Beaten Shot Stabbed by Tough Man_1080pFHR-Scene-040.mp4\n"
     ]
    },
    {
     "name": "stderr",
     "output_type": "stream",
     "text": [
      "100%|██████████| 130/130 [00:01<00:00, 75.45frame/s]\n"
     ]
    },
    {
     "name": "stdout",
     "output_type": "stream",
     "text": [
      "Splitting scene 41: 4 Girls Beaten Shot Stabbed by Tough Man_1080pFHR-Scene-041.mp4\n"
     ]
    },
    {
     "name": "stderr",
     "output_type": "stream",
     "text": [
      "100%|██████████| 47/47 [00:00<00:00, 62.51frame/s]\n"
     ]
    },
    {
     "name": "stdout",
     "output_type": "stream",
     "text": [
      "Splitting scene 42: 4 Girls Beaten Shot Stabbed by Tough Man_1080pFHR-Scene-042.mp4\n"
     ]
    },
    {
     "name": "stderr",
     "output_type": "stream",
     "text": [
      "100%|██████████| 128/128 [00:01<00:00, 83.13frame/s]\n"
     ]
    },
    {
     "name": "stdout",
     "output_type": "stream",
     "text": [
      "Splitting scene 43: 4 Girls Beaten Shot Stabbed by Tough Man_1080pFHR-Scene-043.mp4\n"
     ]
    },
    {
     "name": "stderr",
     "output_type": "stream",
     "text": [
      "100%|██████████| 15/15 [00:00<00:00, 19.59frame/s]\n"
     ]
    },
    {
     "name": "stdout",
     "output_type": "stream",
     "text": [
      "Splitting scene 44: 4 Girls Beaten Shot Stabbed by Tough Man_1080pFHR-Scene-044.mp4\n"
     ]
    },
    {
     "name": "stderr",
     "output_type": "stream",
     "text": [
      "100%|██████████| 170/170 [00:02<00:00, 65.07frame/s]\n"
     ]
    },
    {
     "name": "stdout",
     "output_type": "stream",
     "text": [
      "Splitting scene 45: 4 Girls Beaten Shot Stabbed by Tough Man_1080pFHR-Scene-045.mp4\n"
     ]
    },
    {
     "name": "stderr",
     "output_type": "stream",
     "text": [
      "100%|██████████| 65/65 [00:01<00:00, 57.32frame/s]\n"
     ]
    },
    {
     "name": "stdout",
     "output_type": "stream",
     "text": [
      "Splitting scene 46: 4 Girls Beaten Shot Stabbed by Tough Man_1080pFHR-Scene-046.mp4\n"
     ]
    },
    {
     "name": "stderr",
     "output_type": "stream",
     "text": [
      "100%|██████████| 244/244 [00:01<00:00, 132.02frame/s]\n"
     ]
    },
    {
     "name": "stdout",
     "output_type": "stream",
     "text": [
      "Splitting scene 47: 4 Girls Beaten Shot Stabbed by Tough Man_1080pFHR-Scene-047.mp4\n"
     ]
    },
    {
     "name": "stderr",
     "output_type": "stream",
     "text": [
      "100%|██████████| 45/45 [00:00<00:00, 61.68frame/s]\n"
     ]
    },
    {
     "name": "stdout",
     "output_type": "stream",
     "text": [
      "Splitting scene 48: 4 Girls Beaten Shot Stabbed by Tough Man_1080pFHR-Scene-048.mp4\n"
     ]
    },
    {
     "name": "stderr",
     "output_type": "stream",
     "text": [
      "100%|██████████| 40/40 [00:00<00:00, 51.81frame/s]\n"
     ]
    },
    {
     "name": "stdout",
     "output_type": "stream",
     "text": [
      "Splitting scene 49: 4 Girls Beaten Shot Stabbed by Tough Man_1080pFHR-Scene-049.mp4\n"
     ]
    },
    {
     "name": "stderr",
     "output_type": "stream",
     "text": [
      "100%|██████████| 18/18 [00:00<00:00, 28.25frame/s]\n"
     ]
    },
    {
     "name": "stdout",
     "output_type": "stream",
     "text": [
      "Splitting scene 50: 4 Girls Beaten Shot Stabbed by Tough Man_1080pFHR-Scene-050.mp4\n"
     ]
    },
    {
     "name": "stderr",
     "output_type": "stream",
     "text": [
      "100%|██████████| 88/88 [00:01<00:00, 77.13frame/s]\n"
     ]
    },
    {
     "name": "stdout",
     "output_type": "stream",
     "text": [
      "Splitting scene 51: 4 Girls Beaten Shot Stabbed by Tough Man_1080pFHR-Scene-051.mp4\n"
     ]
    },
    {
     "name": "stderr",
     "output_type": "stream",
     "text": [
      "100%|██████████| 92/92 [00:00<00:00, 99.77frame/s]\n"
     ]
    },
    {
     "name": "stdout",
     "output_type": "stream",
     "text": [
      "Splitting scene 52: 4 Girls Beaten Shot Stabbed by Tough Man_1080pFHR-Scene-052.mp4\n"
     ]
    },
    {
     "name": "stderr",
     "output_type": "stream",
     "text": [
      "100%|██████████| 168/168 [00:01<00:00, 112.45frame/s]\n"
     ]
    },
    {
     "name": "stdout",
     "output_type": "stream",
     "text": [
      "Splitting scene 53: 4 Girls Beaten Shot Stabbed by Tough Man_1080pFHR-Scene-053.mp4\n"
     ]
    },
    {
     "name": "stderr",
     "output_type": "stream",
     "text": [
      "100%|██████████| 101/101 [00:01<00:00, 79.42frame/s]\n"
     ]
    },
    {
     "name": "stdout",
     "output_type": "stream",
     "text": [
      "Splitting scene 54: 4 Girls Beaten Shot Stabbed by Tough Man_1080pFHR-Scene-054.mp4\n"
     ]
    },
    {
     "name": "stderr",
     "output_type": "stream",
     "text": [
      "100%|██████████| 319/319 [00:02<00:00, 132.48frame/s]\n"
     ]
    },
    {
     "name": "stdout",
     "output_type": "stream",
     "text": [
      "Splitting scene 55: 4 Girls Beaten Shot Stabbed by Tough Man_1080pFHR-Scene-055.mp4\n"
     ]
    },
    {
     "name": "stderr",
     "output_type": "stream",
     "text": [
      "100%|██████████| 355/355 [00:03<00:00, 113.43frame/s]\n"
     ]
    },
    {
     "name": "stdout",
     "output_type": "stream",
     "text": [
      "Splitting scene 56: 4 Girls Beaten Shot Stabbed by Tough Man_1080pFHR-Scene-056.mp4\n"
     ]
    },
    {
     "name": "stderr",
     "output_type": "stream",
     "text": [
      "100%|██████████| 93/93 [00:01<00:00, 85.69frame/s]\n"
     ]
    },
    {
     "name": "stdout",
     "output_type": "stream",
     "text": [
      "Splitting scene 57: 4 Girls Beaten Shot Stabbed by Tough Man_1080pFHR-Scene-057.mp4\n"
     ]
    },
    {
     "name": "stderr",
     "output_type": "stream",
     "text": [
      "100%|██████████| 91/91 [00:01<00:00, 71.39frame/s]\n"
     ]
    },
    {
     "name": "stdout",
     "output_type": "stream",
     "text": [
      "Splitting scene 58: 4 Girls Beaten Shot Stabbed by Tough Man_1080pFHR-Scene-058.mp4\n"
     ]
    },
    {
     "name": "stderr",
     "output_type": "stream",
     "text": [
      "100%|██████████| 97/97 [00:00<00:00, 99.44frame/s]\n"
     ]
    },
    {
     "name": "stdout",
     "output_type": "stream",
     "text": [
      "Splitting scene 59: 4 Girls Beaten Shot Stabbed by Tough Man_1080pFHR-Scene-059.mp4\n"
     ]
    },
    {
     "name": "stderr",
     "output_type": "stream",
     "text": [
      "100%|██████████| 423/423 [00:03<00:00, 114.26frame/s]\n"
     ]
    },
    {
     "name": "stdout",
     "output_type": "stream",
     "text": [
      "Splitting scene 60: 4 Girls Beaten Shot Stabbed by Tough Man_1080pFHR-Scene-060.mp4\n"
     ]
    },
    {
     "name": "stderr",
     "output_type": "stream",
     "text": [
      "100%|██████████| 79/79 [00:01<00:00, 73.34frame/s]\n"
     ]
    },
    {
     "name": "stdout",
     "output_type": "stream",
     "text": [
      "Splitting scene 61: 4 Girls Beaten Shot Stabbed by Tough Man_1080pFHR-Scene-061.mp4\n"
     ]
    },
    {
     "name": "stderr",
     "output_type": "stream",
     "text": [
      "100%|██████████| 90/90 [00:01<00:00, 82.20frame/s]\n"
     ]
    },
    {
     "name": "stdout",
     "output_type": "stream",
     "text": [
      "Splitting scene 62: 4 Girls Beaten Shot Stabbed by Tough Man_1080pFHR-Scene-062.mp4\n"
     ]
    },
    {
     "name": "stderr",
     "output_type": "stream",
     "text": [
      "100%|██████████| 209/209 [00:02<00:00, 102.99frame/s]\n"
     ]
    },
    {
     "name": "stdout",
     "output_type": "stream",
     "text": [
      "Splitting scene 63: 4 Girls Beaten Shot Stabbed by Tough Man_1080pFHR-Scene-063.mp4\n"
     ]
    },
    {
     "name": "stderr",
     "output_type": "stream",
     "text": [
      "100%|██████████| 122/122 [00:01<00:00, 96.39frame/s]\n"
     ]
    },
    {
     "name": "stdout",
     "output_type": "stream",
     "text": [
      "Splitting scene 64: 4 Girls Beaten Shot Stabbed by Tough Man_1080pFHR-Scene-064.mp4\n"
     ]
    },
    {
     "name": "stderr",
     "output_type": "stream",
     "text": [
      "100%|██████████| 184/184 [00:01<00:00, 101.02frame/s]\n"
     ]
    },
    {
     "name": "stdout",
     "output_type": "stream",
     "text": [
      "Splitting scene 65: 4 Girls Beaten Shot Stabbed by Tough Man_1080pFHR-Scene-065.mp4\n"
     ]
    },
    {
     "name": "stderr",
     "output_type": "stream",
     "text": [
      "100%|██████████| 92/92 [00:01<00:00, 79.71frame/s]\n"
     ]
    },
    {
     "name": "stdout",
     "output_type": "stream",
     "text": [
      "Splitting scene 66: 4 Girls Beaten Shot Stabbed by Tough Man_1080pFHR-Scene-066.mp4\n"
     ]
    },
    {
     "name": "stderr",
     "output_type": "stream",
     "text": [
      "100%|██████████| 82/82 [00:01<00:00, 81.09frame/s]\n"
     ]
    },
    {
     "name": "stdout",
     "output_type": "stream",
     "text": [
      "Splitting scene 67: 4 Girls Beaten Shot Stabbed by Tough Man_1080pFHR-Scene-067.mp4\n"
     ]
    },
    {
     "name": "stderr",
     "output_type": "stream",
     "text": [
      "100%|██████████| 43/43 [00:00<00:00, 54.27frame/s]\n"
     ]
    },
    {
     "name": "stdout",
     "output_type": "stream",
     "text": [
      "Splitting scene 68: 4 Girls Beaten Shot Stabbed by Tough Man_1080pFHR-Scene-068.mp4\n"
     ]
    },
    {
     "name": "stderr",
     "output_type": "stream",
     "text": [
      "100%|██████████| 83/83 [00:01<00:00, 68.57frame/s]\n"
     ]
    },
    {
     "name": "stdout",
     "output_type": "stream",
     "text": [
      "Splitting scene 69: 4 Girls Beaten Shot Stabbed by Tough Man_1080pFHR-Scene-069.mp4\n"
     ]
    },
    {
     "name": "stderr",
     "output_type": "stream",
     "text": [
      "100%|██████████| 326/326 [00:02<00:00, 118.01frame/s]\n"
     ]
    },
    {
     "name": "stdout",
     "output_type": "stream",
     "text": [
      "Splitting scene 70: 4 Girls Beaten Shot Stabbed by Tough Man_1080pFHR-Scene-070.mp4\n"
     ]
    },
    {
     "name": "stderr",
     "output_type": "stream",
     "text": [
      "100%|██████████| 45/45 [00:00<00:00, 69.71frame/s]\n"
     ]
    },
    {
     "name": "stdout",
     "output_type": "stream",
     "text": [
      "Splitting scene 71: 4 Girls Beaten Shot Stabbed by Tough Man_1080pFHR-Scene-071.mp4\n"
     ]
    },
    {
     "name": "stderr",
     "output_type": "stream",
     "text": [
      "100%|██████████| 68/68 [00:00<00:00, 77.07frame/s]\n"
     ]
    },
    {
     "name": "stdout",
     "output_type": "stream",
     "text": [
      "Splitting scene 72: 4 Girls Beaten Shot Stabbed by Tough Man_1080pFHR-Scene-072.mp4\n"
     ]
    },
    {
     "name": "stderr",
     "output_type": "stream",
     "text": [
      "100%|██████████| 15/15 [00:00<00:00, 30.56frame/s]\n"
     ]
    },
    {
     "name": "stdout",
     "output_type": "stream",
     "text": [
      "Splitting scene 73: 4 Girls Beaten Shot Stabbed by Tough Man_1080pFHR-Scene-073.mp4\n"
     ]
    },
    {
     "name": "stderr",
     "output_type": "stream",
     "text": [
      "100%|██████████| 310/310 [00:02<00:00, 106.90frame/s]\n"
     ]
    },
    {
     "name": "stdout",
     "output_type": "stream",
     "text": [
      "Splitting scene 74: 4 Girls Beaten Shot Stabbed by Tough Man_1080pFHR-Scene-074.mp4\n"
     ]
    },
    {
     "name": "stderr",
     "output_type": "stream",
     "text": [
      "100%|██████████| 52/52 [00:00<00:00, 63.14frame/s]\n"
     ]
    },
    {
     "name": "stdout",
     "output_type": "stream",
     "text": [
      "Splitting scene 75: 4 Girls Beaten Shot Stabbed by Tough Man_1080pFHR-Scene-075.mp4\n"
     ]
    },
    {
     "name": "stderr",
     "output_type": "stream",
     "text": [
      "100%|██████████| 239/239 [00:02<00:00, 106.86frame/s]\n"
     ]
    },
    {
     "name": "stdout",
     "output_type": "stream",
     "text": [
      "Splitting scene 76: 4 Girls Beaten Shot Stabbed by Tough Man_1080pFHR-Scene-076.mp4\n"
     ]
    },
    {
     "name": "stderr",
     "output_type": "stream",
     "text": [
      "100%|██████████| 295/295 [00:02<00:00, 111.21frame/s]\n"
     ]
    },
    {
     "name": "stdout",
     "output_type": "stream",
     "text": [
      "Splitting scene 77: 4 Girls Beaten Shot Stabbed by Tough Man_1080pFHR-Scene-077.mp4\n"
     ]
    },
    {
     "name": "stderr",
     "output_type": "stream",
     "text": [
      "100%|██████████| 276/276 [00:02<00:00, 123.08frame/s]\n"
     ]
    },
    {
     "name": "stdout",
     "output_type": "stream",
     "text": [
      "Splitting scene 78: 4 Girls Beaten Shot Stabbed by Tough Man_1080pFHR-Scene-078.mp4\n"
     ]
    },
    {
     "name": "stderr",
     "output_type": "stream",
     "text": [
      "100%|██████████| 121/121 [00:01<00:00, 94.77frame/s]\n"
     ]
    },
    {
     "name": "stdout",
     "output_type": "stream",
     "text": [
      "Splitting scene 79: 4 Girls Beaten Shot Stabbed by Tough Man_1080pFHR-Scene-079.mp4\n"
     ]
    },
    {
     "name": "stderr",
     "output_type": "stream",
     "text": [
      "100%|██████████| 244/244 [00:02<00:00, 91.14frame/s]\n"
     ]
    },
    {
     "name": "stdout",
     "output_type": "stream",
     "text": [
      "Splitting scene 80: 4 Girls Beaten Shot Stabbed by Tough Man_1080pFHR-Scene-080.mp4\n"
     ]
    },
    {
     "name": "stderr",
     "output_type": "stream",
     "text": [
      "100%|██████████| 177/177 [00:02<00:00, 81.27frame/s]\n"
     ]
    },
    {
     "name": "stdout",
     "output_type": "stream",
     "text": [
      "Splitting scene 81: 4 Girls Beaten Shot Stabbed by Tough Man_1080pFHR-Scene-081.mp4\n"
     ]
    },
    {
     "name": "stderr",
     "output_type": "stream",
     "text": [
      "100%|██████████| 200/200 [00:02<00:00, 85.43frame/s]\n"
     ]
    },
    {
     "name": "stdout",
     "output_type": "stream",
     "text": [
      "Splitting scene 82: 4 Girls Beaten Shot Stabbed by Tough Man_1080pFHR-Scene-082.mp4\n"
     ]
    },
    {
     "name": "stderr",
     "output_type": "stream",
     "text": [
      "100%|██████████| 223/223 [00:02<00:00, 80.93frame/s]\n"
     ]
    },
    {
     "name": "stdout",
     "output_type": "stream",
     "text": [
      "Splitting scene 83: 4 Girls Beaten Shot Stabbed by Tough Man_1080pFHR-Scene-083.mp4\n"
     ]
    },
    {
     "name": "stderr",
     "output_type": "stream",
     "text": [
      "100%|██████████| 276/276 [00:02<00:00, 115.54frame/s]"
     ]
    },
    {
     "name": "stdout",
     "output_type": "stream",
     "text": [
      "CSV file \"4 Girls Beaten Shot Stabbed by Tough Man_1080pFHR_split_videos\\4 Girls Beaten Shot Stabbed by Tough Man_1080pFHR_scene_detect.csv\" has been created.\n",
      "Split videos and CSV are saved in the \"4 Girls Beaten Shot Stabbed by Tough Man_1080pFHR_split_videos\" directory.\n"
     ]
    },
    {
     "name": "stderr",
     "output_type": "stream",
     "text": [
      "\n"
     ]
    }
   ],
   "source": [
    "import csv\n",
    "import os\n",
    "from scenedetect import detect, ContentDetector, split_video_ffmpeg\n",
    "\n",
    "# Set the base name\n",
    "base_name = \"4 Girls Beaten Shot Stabbed by Tough Man_1080pFHR\"\n",
    "\n",
    "# Construct file and directory names\n",
    "video_file = f'{base_name}.mp4'\n",
    "output_directory = f'{base_name}_split_videos'\n",
    "csv_filename = os.path.join(output_directory, f'{base_name}_scene_detect.csv')\n",
    "\n",
    "os.makedirs(output_directory, exist_ok=True)\n",
    "\n",
    "def get_scene_info(scene):\n",
    "    start_frame, start_timecode = int(scene[0].get_frames()), scene[0].get_timecode()\n",
    "    end_frame, end_timecode = int(scene[1].get_frames()), scene[1].get_timecode()\n",
    "\n",
    "    # Calculate lengths\n",
    "    length_frames = end_frame - start_frame\n",
    "    length_timecode_frames = int(scene[1].get_frames()) - int(scene[0].get_frames())\n",
    "    length_timecode_seconds = scene[1].get_seconds() - scene[0].get_seconds()\n",
    "    length_seconds = scene[1].get_seconds() - scene[0].get_seconds()\n",
    "\n",
    "    return start_frame, end_frame, length_frames, start_timecode, end_timecode, length_timecode_frames, scene[0].get_seconds(), scene[1].get_seconds(), length_timecode_seconds, length_seconds\n",
    "\n",
    "with open(csv_filename, 'w', newline='') as csv_file:\n",
    "    csv_writer = csv.writer(csv_file)\n",
    "    csv_writer.writerow(['Video Name', 'Scene Number', 'Start Frame', 'End Frame', 'Length (frames)', 'Start Timecode', 'End Timecode', 'Length (timecode)', 'Start Time (seconds)', 'End Time (seconds)', 'Length (seconds)'])\n",
    "\n",
    "    for i, scene in enumerate(detect(video_file, ContentDetector())):\n",
    "        split_video_name = f'{base_name}-Scene-{i + 1:03d}.mp4'\n",
    "        print(f'Splitting scene {i + 1}: {split_video_name}')\n",
    "        split_video_ffmpeg(video_file, [scene], output_file_template=os.path.join(output_directory, split_video_name), show_progress=True)\n",
    "\n",
    "        start_frame, end_frame, length_frames, start_timecode, end_timecode, length_timecode_frames, start_seconds, end_seconds, length_timecode_seconds, length_seconds = get_scene_info(scene)\n",
    "        csv_writer.writerow([split_video_name, i + 1, start_frame, end_frame, length_frames, start_timecode, end_timecode, length_timecode_frames, start_seconds, end_seconds, length_seconds])\n",
    "\n",
    "print(f'CSV file \"{csv_filename}\" has been created.')\n",
    "print(f'Split videos and CSV are saved in the \"{output_directory}\" directory.')\n"
   ]
  }
 ],
 "metadata": {
  "kernelspec": {
   "display_name": "base",
   "language": "python",
   "name": "python3"
  },
  "language_info": {
   "codemirror_mode": {
    "name": "ipython",
    "version": 3
   },
   "file_extension": ".py",
   "mimetype": "text/x-python",
   "name": "python",
   "nbconvert_exporter": "python",
   "pygments_lexer": "ipython3",
   "version": "3.10.13"
  }
 },
 "nbformat": 4,
 "nbformat_minor": 2
}
