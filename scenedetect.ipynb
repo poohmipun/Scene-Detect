{
 "cells": [
  {
   "cell_type": "code",
   "execution_count": null,
   "metadata": {},
   "outputs": [],
   "source": [
    "import csv\n",
    "import os\n",
    "from scenedetect import detect, ContentDetector, split_video_ffmpeg\n",
    "\n",
    "# Set the base name\n",
    "base_name = \"Cigarettes\"\n",
    "\n",
    "# Construct file and directory names\n",
    "video_file = f'{base_name}.mp4'\n",
    "csv_filename = f'{base_name}_scene_detect.csv'\n",
    "output_directory = f'{base_name}_split_videos'\n",
    "\n",
    "os.makedirs(output_directory, exist_ok=True)\n",
    "\n",
    "def get_scene_info(scene):\n",
    "    start_frame, start_timecode = int(scene[0].get_frames()), scene[0].get_timecode()\n",
    "    end_frame, end_timecode = int(scene[1].get_frames()), scene[1].get_timecode()\n",
    "\n",
    "    # Calculate lengths\n",
    "    length_frames = end_frame - start_frame\n",
    "    length_timecode_frames = int(scene[1].get_frames()) - int(scene[0].get_frames())\n",
    "    length_timecode_seconds = scene[1].get_seconds() - scene[0].get_seconds()\n",
    "    length_seconds = scene[1].get_seconds() - scene[0].get_seconds()\n",
    "\n",
    "    return start_frame, end_frame, length_frames, start_timecode, end_timecode, length_timecode_frames, scene[0].get_seconds(), scene[1].get_seconds(), length_timecode_seconds, length_seconds\n",
    "\n",
    "with open(csv_filename, 'w', newline='') as csv_file:\n",
    "    csv_writer = csv.writer(csv_file)\n",
    "    csv_writer.writerow(['Video Name', 'Scene Number', 'Start Frame', 'End Frame', 'Length (frames)', 'Start Timecode', 'End Timecode', 'Length (timecode)', 'Start Time (seconds)', 'End Time (seconds)', 'Length (seconds)'])\n",
    "\n",
    "    for i, scene in enumerate(detect(video_file, ContentDetector())):\n",
    "        split_video_name = f'{base_name}-Scene-{i + 1:03d}.mp4'\n",
    "        print(f'Splitting scene {i + 1}: {split_video_name}')\n",
    "        split_video_ffmpeg(video_file, [scene], output_file_template=os.path.join(output_directory, split_video_name), show_progress=True)\n",
    "\n",
    "        start_frame, end_frame, length_frames, start_timecode, end_timecode, length_timecode_frames, start_seconds, end_seconds, length_timecode_seconds, length_seconds = get_scene_info(scene)\n",
    "        csv_writer.writerow([split_video_name, i + 1, start_frame, end_frame, length_frames, start_timecode, end_timecode, length_timecode_frames, start_seconds, end_seconds, length_seconds])\n",
    "\n",
    "\n",
    "print(f'CSV file \"{csv_filename}\" has been created.')\n",
    "print(f'Split videos are saved in the \"{output_directory}\" directory.')\n"
   ]
  }
 ],
 "metadata": {
  "kernelspec": {
   "display_name": "base",
   "language": "python",
   "name": "python3"
  },
  "language_info": {
   "codemirror_mode": {
    "name": "ipython",
    "version": 3
   },
   "file_extension": ".py",
   "mimetype": "text/x-python",
   "name": "python",
   "nbconvert_exporter": "python",
   "pygments_lexer": "ipython3",
   "version": "3.10.13"
  }
 },
 "nbformat": 4,
 "nbformat_minor": 2
}
